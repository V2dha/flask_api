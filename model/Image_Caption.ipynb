{
  "nbformat": 4,
  "nbformat_minor": 0,
  "metadata": {
    "colab": {
      "name": "Image Caption.ipynb",
      "provenance": []
    },
    "kernelspec": {
      "name": "python3",
      "display_name": "Python 3"
    },
    "accelerator": "GPU"
  },
  "cells": [
    {
      "cell_type": "code",
      "metadata": {
        "id": "gweS9CscSj_o"
      },
      "source": [
        "!mkdir -p ~/.kaggle"
      ],
      "execution_count": null,
      "outputs": []
    },
    {
      "cell_type": "code",
      "metadata": {
        "id": "V7S68iz5U5HH"
      },
      "source": [
        "!cp kaggle\\(2\\).json ~/.kaggle/kaggle.json"
      ],
      "execution_count": null,
      "outputs": []
    },
    {
      "cell_type": "code",
      "metadata": {
        "id": "wjsLo9-IU8kZ",
        "colab": {
          "base_uri": "https://localhost:8080/",
          "height": 86
        },
        "outputId": "05920abb-a17c-4300-d86b-8c36b4dae470"
      },
      "source": [
        "!kaggle datasets download -d shadabhussain/flickr8k"
      ],
      "execution_count": null,
      "outputs": [
        {
          "output_type": "stream",
          "text": [
            "Warning: Your Kaggle API key is readable by other users on this system! To fix this, you can run 'chmod 600 /root/.kaggle/kaggle.json'\n",
            "Downloading flickr8k.zip to /content\n",
            " 99% 2.11G/2.13G [01:16<00:00, 20.5MB/s]\n",
            "100% 2.13G/2.13G [01:16<00:00, 29.9MB/s]\n"
          ],
          "name": "stdout"
        }
      ]
    },
    {
      "cell_type": "code",
      "metadata": {
        "id": "YeA0L5pEovyu"
      },
      "source": [
        "!chmod 600 /root/.kaggle/kaggle.json"
      ],
      "execution_count": null,
      "outputs": []
    },
    {
      "cell_type": "code",
      "metadata": {
        "id": "WG4AIwTZVJoh"
      },
      "source": [
        "from keras.applications.inception_v3 import preprocess_input,InceptionV3"
      ],
      "execution_count": null,
      "outputs": []
    },
    {
      "cell_type": "code",
      "metadata": {
        "id": "9QNfBEYIXhht"
      },
      "source": [
        "from keras.preprocessing.image import load_img,img_to_array"
      ],
      "execution_count": null,
      "outputs": []
    },
    {
      "cell_type": "code",
      "metadata": {
        "id": "uLrApq5OXhqJ"
      },
      "source": [
        "import pandas as pd\n",
        "import numpy as np\n",
        "import glob\n",
        "import cv2\n",
        "import os\n",
        "from keras.preprocessing.sequence import pad_sequences\n",
        "from keras.preprocessing.text import Tokenizer\n",
        "from keras.models import Model\n",
        "from keras.layers import Flatten, Dense, LSTM, Dropout, Embedding, Activation\n",
        "from keras.layers import concatenate, BatchNormalization, Input,GlobalAveragePooling2D\n",
        "from keras.layers.merge import add\n",
        "from keras.utils import to_categorical\n",
        "from keras.applications.inception_v3 import InceptionV3, preprocess_input\n",
        "from keras.utils import plot_model\n",
        "import matplotlib.pyplot as plt\n",
        "import string\n",
        "import time"
      ],
      "execution_count": null,
      "outputs": []
    },
    {
      "cell_type": "code",
      "metadata": {
        "id": "khw7Ed0CNO1A"
      },
      "source": [
        "from nltk.translate.bleu_score import sentence_bleu"
      ],
      "execution_count": null,
      "outputs": []
    },
    {
      "cell_type": "code",
      "metadata": {
        "id": "NmGg_hGtn664"
      },
      "source": [
        "from keras.preprocessing.image import load_img,img_to_array"
      ],
      "execution_count": null,
      "outputs": []
    },
    {
      "cell_type": "code",
      "metadata": {
        "id": "1Ko6JCV1Vg3Z"
      },
      "source": [
        "!unzip -q flickr8k.zip"
      ],
      "execution_count": null,
      "outputs": []
    },
    {
      "cell_type": "code",
      "metadata": {
        "id": "kHrWUkZzVnv_"
      },
      "source": [
        "img_pth = '/content/Flickr_Data/Flickr_Data/Images/'"
      ],
      "execution_count": null,
      "outputs": []
    },
    {
      "cell_type": "code",
      "metadata": {
        "id": "6W-TcONon9lN"
      },
      "source": [
        "train_pth = '/content/Flickr_Data/Flickr_Data/Flickr_TextData/Flickr_8k.trainImages.txt'"
      ],
      "execution_count": null,
      "outputs": []
    },
    {
      "cell_type": "code",
      "metadata": {
        "id": "b931ImFsVTil"
      },
      "source": [
        "test_pth = '/content/Flickr_Data/Flickr_Data/Flickr_TextData/Flickr_8k.testImages.txt'"
      ],
      "execution_count": null,
      "outputs": []
    },
    {
      "cell_type": "code",
      "metadata": {
        "id": "gZSe7iwlV9pr"
      },
      "source": [
        "import glob"
      ],
      "execution_count": null,
      "outputs": []
    },
    {
      "cell_type": "code",
      "metadata": {
        "id": "EUpvhgQOoDIr"
      },
      "source": [
        "trainset = open(train_pth, 'r', encoding = 'utf-8').read().split(\"\\n\")\n",
        "train_img = []\n",
        "for im in glob.glob(img_pth+'*.jpg'):\n",
        "    if im.split('/')[-1] in trainset:\n",
        "        train_img.append(im)"
      ],
      "execution_count": null,
      "outputs": []
    },
    {
      "cell_type": "code",
      "metadata": {
        "id": "5XOEF4t2V7LG"
      },
      "source": [
        "testset = open(test_pth, 'r', encoding = 'utf-8').read().split(\"\\n\")\n",
        "test_img = []\n",
        "for im in glob.glob(img_pth+'*.jpg'):\n",
        "    if im.split('/')[-1] in testset:\n",
        "        test_img.append(im)"
      ],
      "execution_count": null,
      "outputs": []
    },
    {
      "cell_type": "code",
      "metadata": {
        "id": "MhpFrZZSWC6G"
      },
      "source": [
        "caps_pth = '/content/Flickr_Data/Flickr_Data/Flickr_TextData/Flickr8k.token.txt'\n",
        "caps  = open(caps_pth, 'r', encoding = 'utf-8').read()"
      ],
      "execution_count": null,
      "outputs": []
    },
    {
      "cell_type": "code",
      "metadata": {
        "id": "dw0Tu2e3WOLm"
      },
      "source": [
        "def load_caps(caps):\n",
        "    captions = dict()\n",
        "    for cap in caps.split(\"\\n\"):\n",
        "        token = cap.split(\"\\t\")\n",
        "        if len(cap) < 2:\n",
        "            continue\n",
        "        img_id = token[0].split('.')[0]\n",
        "        img_cap = token[1]\n",
        "        if img_id not in captions:\n",
        "            captions[img_id] = []\n",
        "        captions[img_id].append(img_cap)\n",
        "    return captions"
      ],
      "execution_count": null,
      "outputs": []
    },
    {
      "cell_type": "code",
      "metadata": {
        "id": "YLrIJ06gWOOz"
      },
      "source": [
        "captions = load_caps(caps)"
      ],
      "execution_count": null,
      "outputs": []
    },
    {
      "cell_type": "code",
      "metadata": {
        "id": "nOsjWf3obOUR",
        "colab": {
          "base_uri": "https://localhost:8080/",
          "height": 34
        },
        "outputId": "f476b719-a879-4dcc-f59d-06f79d854e49"
      },
      "source": [
        "len(captions)"
      ],
      "execution_count": null,
      "outputs": [
        {
          "output_type": "execute_result",
          "data": {
            "text/plain": [
              "8092"
            ]
          },
          "metadata": {
            "tags": []
          },
          "execution_count": 19
        }
      ]
    },
    {
      "cell_type": "code",
      "metadata": {
        "id": "_IY8iMk1WXKF"
      },
      "source": [
        "from gensim.parsing.preprocessing import remove_stopwords,strip_numeric,strip_punctuation,strip_short"
      ],
      "execution_count": null,
      "outputs": []
    },
    {
      "cell_type": "code",
      "metadata": {
        "id": "q742ljbhWOSA"
      },
      "source": [
        "def clean_caps(caps):\n",
        "    for key, cap in caps.items():\n",
        "        for i in range(len(cap)):\n",
        "            caption = cap[i]\n",
        "            caption = caption.lower()\n",
        "            caption = strip_punctuation(caption)\n",
        "            caption = strip_numeric(caption)\n",
        "            caption = strip_short(caption,2)\n",
        "            cap[i] = caption"
      ],
      "execution_count": null,
      "outputs": []
    },
    {
      "cell_type": "code",
      "metadata": {
        "id": "iNa1F88aWTDh"
      },
      "source": [
        "clean_caps(captions)"
      ],
      "execution_count": null,
      "outputs": []
    },
    {
      "cell_type": "code",
      "metadata": {
        "id": "0K4eqOvpWABv"
      },
      "source": [
        "def load_clean_descriptions(caps, data):\n",
        "    dat = dict()\n",
        "    for key, cap in caps.items():\n",
        "        if key+'.jpg' in data:\n",
        "            if key not in dat:\n",
        "                dat[key] = []\n",
        "            for line in cap:\n",
        "                c = line\n",
        "                dat[key].append(c)\n",
        "    return dat\n",
        "train_caps = load_clean_descriptions(captions, trainset)\n",
        "test_caps = load_clean_descriptions(captions, testset)"
      ],
      "execution_count": null,
      "outputs": []
    },
    {
      "cell_type": "code",
      "metadata": {
        "id": "NkWbJIvTWk8g"
      },
      "source": [
        "def load_im(img_path):\n",
        "    img = cv2.imread(img_path)\n",
        "    img = cv2.resize(img,(299,299))\n",
        "    x = img_to_array(img)\n",
        "    x = np.expand_dims(x, axis = 0)\n",
        "    x = preprocess_input(x)\n",
        "    return x"
      ],
      "execution_count": null,
      "outputs": []
    },
    {
      "cell_type": "code",
      "metadata": {
        "id": "_CPJ62l3WnLH",
        "colab": {
          "base_uri": "https://localhost:8080/",
          "height": 52
        },
        "outputId": "05175f5b-0ecf-46d4-c016-bd30a35af4dd"
      },
      "source": [
        "base_model = InceptionV3(weights = 'imagenet',input_shape = (299,299,3))"
      ],
      "execution_count": null,
      "outputs": [
        {
          "output_type": "stream",
          "text": [
            "Downloading data from https://storage.googleapis.com/tensorflow/keras-applications/inception_v3/inception_v3_weights_tf_dim_ordering_tf_kernels.h5\n",
            "96116736/96112376 [==============================] - 3s 0us/step\n"
          ],
          "name": "stdout"
        }
      ]
    },
    {
      "cell_type": "code",
      "metadata": {
        "id": "qbEElFyYWoEj"
      },
      "source": [
        "x = base_model.layers[-2]"
      ],
      "execution_count": null,
      "outputs": []
    },
    {
      "cell_type": "code",
      "metadata": {
        "id": "klkJJMFXWuJy"
      },
      "source": [
        "from tqdm import tqdm"
      ],
      "execution_count": null,
      "outputs": []
    },
    {
      "cell_type": "code",
      "metadata": {
        "id": "HJTsO7CdWsrd"
      },
      "source": [
        "encoder = Model(base_model.inputs,x.output)"
      ],
      "execution_count": null,
      "outputs": []
    },
    {
      "cell_type": "code",
      "metadata": {
        "id": "-HClAmOQWtg5"
      },
      "source": [
        "def encode_img(img):\n",
        "    img = load_im(img)\n",
        "    enc = encoder.predict(img)\n",
        "    enc = np.reshape(enc, (enc.shape[1]))\n",
        "    return enc"
      ],
      "execution_count": null,
      "outputs": []
    },
    {
      "cell_type": "code",
      "metadata": {
        "id": "eD7cGo8eoglt"
      },
      "source": [
        "train_enc = {}"
      ],
      "execution_count": null,
      "outputs": []
    },
    {
      "cell_type": "code",
      "metadata": {
        "id": "O6tFi-JPuQ71",
        "colab": {
          "base_uri": "https://localhost:8080/",
          "height": 364
        },
        "outputId": "0eea2e72-88b7-46c7-8a71-476623fcbb1c"
      },
      "source": [
        "!nvidia-smi"
      ],
      "execution_count": null,
      "outputs": [
        {
          "output_type": "stream",
          "text": [
            "Mon Sep 14 05:40:58 2020       \n",
            "+-----------------------------------------------------------------------------+\n",
            "| NVIDIA-SMI 450.66       Driver Version: 418.67       CUDA Version: 10.1     |\n",
            "|-------------------------------+----------------------+----------------------+\n",
            "| GPU  Name        Persistence-M| Bus-Id        Disp.A | Volatile Uncorr. ECC |\n",
            "| Fan  Temp  Perf  Pwr:Usage/Cap|         Memory-Usage | GPU-Util  Compute M. |\n",
            "|                               |                      |               MIG M. |\n",
            "|===============================+======================+======================|\n",
            "|   0  Tesla K80           Off  | 00000000:00:04.0 Off |                    0 |\n",
            "| N/A   73C    P0    76W / 149W |    389MiB / 11441MiB |      0%      Default |\n",
            "|                               |                      |                 ERR! |\n",
            "+-------------------------------+----------------------+----------------------+\n",
            "                                                                               \n",
            "+-----------------------------------------------------------------------------+\n",
            "| Processes:                                                                  |\n",
            "|  GPU   GI   CI        PID   Type   Process name                  GPU Memory |\n",
            "|        ID   ID                                                   Usage      |\n",
            "|=============================================================================|\n",
            "|  No running processes found                                                 |\n",
            "+-----------------------------------------------------------------------------+\n"
          ],
          "name": "stdout"
        }
      ]
    },
    {
      "cell_type": "code",
      "metadata": {
        "id": "5ETNZWkhoUiA",
        "colab": {
          "base_uri": "https://localhost:8080/",
          "height": 34
        },
        "outputId": "3e415a86-2cf2-40f0-f0c2-841b83d09262"
      },
      "source": [
        "for img in tqdm(train_img):\n",
        "    train_enc[img.split('/')[-1]] = encode_img(img)"
      ],
      "execution_count": null,
      "outputs": [
        {
          "output_type": "stream",
          "text": [
            "100%|██████████| 6000/6000 [08:52<00:00, 11.26it/s]\n"
          ],
          "name": "stderr"
        }
      ]
    },
    {
      "cell_type": "code",
      "metadata": {
        "id": "v_x_XYeJW7VH"
      },
      "source": [
        "test_enc = {}"
      ],
      "execution_count": null,
      "outputs": []
    },
    {
      "cell_type": "code",
      "metadata": {
        "id": "gInsdoTkW8JG",
        "colab": {
          "base_uri": "https://localhost:8080/",
          "height": 34
        },
        "outputId": "ff7418ca-60f0-4214-b64c-cde1b5afbc28"
      },
      "source": [
        "for img in tqdm(test_img):\n",
        "    test_enc[img.split('/')[-1]] = encode_img(img)"
      ],
      "execution_count": null,
      "outputs": [
        {
          "output_type": "stream",
          "text": [
            "100%|██████████| 1000/1000 [01:27<00:00, 11.43it/s]\n"
          ],
          "name": "stderr"
        }
      ]
    },
    {
      "cell_type": "code",
      "metadata": {
        "id": "OWsRgG16W8RM"
      },
      "source": [
        "from keras.models import load_model"
      ],
      "execution_count": null,
      "outputs": []
    },
    {
      "cell_type": "code",
      "metadata": {
        "id": "mJaaDEthZoqo"
      },
      "source": [
        "net = load_model('bdrlstmglb200')"
      ],
      "execution_count": null,
      "outputs": []
    },
    {
      "cell_type": "code",
      "metadata": {
        "id": "ockI2g3WZsHN",
        "colab": {
          "base_uri": "https://localhost:8080/",
          "height": 555
        },
        "outputId": "1e8fa8a9-24c2-49c7-d8bf-4c42c1476f81"
      },
      "source": [
        "net.summary()"
      ],
      "execution_count": null,
      "outputs": [
        {
          "output_type": "stream",
          "text": [
            "Model: \"model_18\"\n",
            "__________________________________________________________________________________________________\n",
            "Layer (type)                    Output Shape         Param #     Connected to                     \n",
            "==================================================================================================\n",
            "input_36 (InputLayer)           (None, 35)           0                                            \n",
            "__________________________________________________________________________________________________\n",
            "embedding_17 (Embedding)        (None, 35, 100)      165700      input_36[0][0]                   \n",
            "__________________________________________________________________________________________________\n",
            "input_35 (InputLayer)           (None, 2048)         0                                            \n",
            "__________________________________________________________________________________________________\n",
            "dropout_29 (Dropout)            (None, 35, 100)      0           embedding_17[0][0]               \n",
            "__________________________________________________________________________________________________\n",
            "dropout_28 (Dropout)            (None, 2048)         0           input_35[0][0]                   \n",
            "__________________________________________________________________________________________________\n",
            "lstm_22 (LSTM)                  (None, 35, 128)      117248      dropout_29[0][0]                 \n",
            "__________________________________________________________________________________________________\n",
            "dense_49 (Dense)                (None, 256)          524544      dropout_28[0][0]                 \n",
            "__________________________________________________________________________________________________\n",
            "lstm_23 (LSTM)                  (None, 256)          394240      lstm_22[0][0]                    \n",
            "__________________________________________________________________________________________________\n",
            "concatenate_19 (Concatenate)    (None, 512)          0           dense_49[0][0]                   \n",
            "                                                                 lstm_23[0][0]                    \n",
            "__________________________________________________________________________________________________\n",
            "dense_50 (Dense)                (None, 512)          262656      concatenate_19[0][0]             \n",
            "__________________________________________________________________________________________________\n",
            "dense_51 (Dense)                (None, 1657)         850041      dense_50[0][0]                   \n",
            "==================================================================================================\n",
            "Total params: 2,314,429\n",
            "Trainable params: 2,314,429\n",
            "Non-trainable params: 0\n",
            "__________________________________________________________________________________________________\n"
          ],
          "name": "stdout"
        }
      ]
    },
    {
      "cell_type": "code",
      "metadata": {
        "id": "AQOppIAXuyvH",
        "colab": {
          "base_uri": "https://localhost:8080/",
          "height": 34
        },
        "outputId": "6363ecfd-b5c7-4928-f2b6-5073a81d7797"
      },
      "source": [
        "X1, X2, y = [],[],[]\n",
        "for key, caps in train_caps.items():\n",
        "    pic = train_enc[key + '.jpg']\n",
        "    for cap in caps:\n",
        "        seq = [word_to_idx[word] for word in cap.split(' ') if word in word_to_idx]\n",
        "        for i in range(1, len(seq)):\n",
        "            in_seq, out_seq = seq[:i], seq[i]\n",
        "            in_seq = pad_sequences([in_seq], maxlen = maxm)[0]\n",
        "            out_seq = to_categorical([out_seq], num_classes = vocab_size)[0]\n",
        "            #store\n",
        "            X1.append(pic)\n",
        "            X2.append(in_seq)\n",
        "            y.append(out_seq)\n",
        "\n",
        "X2 = np.array(X2)\n",
        "X1 = np.array(X1)\n",
        "y = np.array(y)\n",
        "print(X1.shape)"
      ],
      "execution_count": null,
      "outputs": [
        {
          "output_type": "stream",
          "text": [
            "(0,)\n"
          ],
          "name": "stdout"
        }
      ]
    },
    {
      "cell_type": "code",
      "metadata": {
        "id": "kf86KqhgasEk"
      },
      "source": [
        "from keras.preprocessing.sequence import pad_sequences"
      ],
      "execution_count": null,
      "outputs": []
    },
    {
      "cell_type": "code",
      "metadata": {
        "id": "roZ2-LwaZuc3"
      },
      "source": [
        "def greedy_search(pic):\n",
        "    start = '<start>'\n",
        "    for i in range(maxm):\n",
        "        seq = [word_to_idx[word] for word in start.split() if word in word_to_idx]\n",
        "        seq = pad_sequences([seq], maxlen = maxm)\n",
        "        yhat = net.predict([pic, seq])\n",
        "        yhat = np.argmax(yhat)\n",
        "        word = idx_to_word[yhat]\n",
        "        start += ' ' + word\n",
        "        if word == '<end>':\n",
        "            break\n",
        "    final = start.split()\n",
        "    final = final[1:-1]\n",
        "    final = ' '.join(final)\n",
        "    return final"
      ],
      "execution_count": null,
      "outputs": []
    },
    {
      "cell_type": "code",
      "metadata": {
        "id": "N42QHoIoZ27H"
      },
      "source": [
        "maxm = 35"
      ],
      "execution_count": null,
      "outputs": []
    },
    {
      "cell_type": "code",
      "metadata": {
        "id": "zZxfykGPZ5yP"
      },
      "source": [
        "word_to_idx = {}\n",
        "idx_to_word = {}"
      ],
      "execution_count": null,
      "outputs": []
    },
    {
      "cell_type": "code",
      "metadata": {
        "id": "sE5f7YkJZ8nt",
        "colab": {
          "base_uri": "https://localhost:8080/",
          "height": 34
        },
        "outputId": "dd2d2ad5-bc9e-4e4f-df32-8649737a3cb7"
      },
      "source": [
        "def to_vocab(cap):\n",
        "    words = set()\n",
        "    for key in cap.keys():\n",
        "        for line in cap[key]:\n",
        "            words.update(line.split())\n",
        "    return words\n",
        "vocab = to_vocab(captions)\n",
        "len(vocab)\n"
      ],
      "execution_count": null,
      "outputs": [
        {
          "output_type": "execute_result",
          "data": {
            "text/plain": [
              "8424"
            ]
          },
          "metadata": {
            "tags": []
          },
          "execution_count": 39
        }
      ]
    },
    {
      "cell_type": "code",
      "metadata": {
        "id": "WMb3vy5GaHk1"
      },
      "source": [
        "train_pth = '/content/Flickr_Data/Flickr_Data/Flickr_TextData/Flickr_8k.trainImages.txt'"
      ],
      "execution_count": null,
      "outputs": []
    },
    {
      "cell_type": "code",
      "metadata": {
        "id": "Wv5KigvbaRvM"
      },
      "source": [
        "trainset = open(train_pth, 'r', encoding = 'utf-8').read().split(\"\\n\")\n",
        "train_img = []\n",
        "for im in glob.glob(img_pth+'*.jpg'):\n",
        "    if im.split('/')[-1] in trainset:\n",
        "        train_img.append(im)"
      ],
      "execution_count": null,
      "outputs": []
    },
    {
      "cell_type": "code",
      "metadata": {
        "id": "3ARwmctGaSmn"
      },
      "source": [
        "def load_clean_descriptions(caps, data):\n",
        "    dat = dict()\n",
        "    for key, cap in caps.items():\n",
        "        if key+'.jpg' in data:\n",
        "            if key not in dat:\n",
        "                dat[key] = []\n",
        "            for line in cap:\n",
        "                c = '<start> '+line+' <end>' \n",
        "                dat[key].append(c)\n",
        "    return dat\n",
        "\n",
        "train_caps = load_clean_descriptions(captions, trainset)"
      ],
      "execution_count": null,
      "outputs": []
    },
    {
      "cell_type": "code",
      "metadata": {
        "id": "HAJ-ptt2aVQ-"
      },
      "source": [
        "train_captions = []\n",
        "for key, caps in train_caps.items():\n",
        "    for cap in caps:\n",
        "        train_captions.append(cap)"
      ],
      "execution_count": null,
      "outputs": []
    },
    {
      "cell_type": "code",
      "metadata": {
        "id": "R819KXFabgBi",
        "colab": {
          "base_uri": "https://localhost:8080/",
          "height": 34
        },
        "outputId": "801ccf4a-714a-4602-c92d-c6f18bc0999f"
      },
      "source": [
        "(min(train_captions,key = len).split())"
      ],
      "execution_count": null,
      "outputs": [
        {
          "output_type": "execute_result",
          "data": {
            "text/plain": [
              "['<start>', 'skier', '<end>']"
            ]
          },
          "metadata": {
            "tags": []
          },
          "execution_count": 49
        }
      ]
    },
    {
      "cell_type": "code",
      "metadata": {
        "id": "2WwVumveaY5D"
      },
      "source": [
        "vocabulary = vocab\n",
        "thresh = 10\n",
        "word_counts = {}\n",
        "for cap in train_captions:\n",
        "    for word in cap.split(' '):\n",
        "        word_counts[word] = word_counts.get(word, 0) + 1"
      ],
      "execution_count": null,
      "outputs": []
    },
    {
      "cell_type": "code",
      "metadata": {
        "id": "S75D6AxRbjWP",
        "colab": {
          "base_uri": "https://localhost:8080/",
          "height": 34
        },
        "outputId": "b7fbfcb1-b440-466e-d5b1-6e28e065676d"
      },
      "source": [
        "len(word_counts)"
      ],
      "execution_count": null,
      "outputs": [
        {
          "output_type": "execute_result",
          "data": {
            "text/plain": [
              "7320"
            ]
          },
          "metadata": {
            "tags": []
          },
          "execution_count": 51
        }
      ]
    },
    {
      "cell_type": "code",
      "metadata": {
        "id": "taFKbcAUaaDa"
      },
      "source": [
        "vocab = [word for word in word_counts if word_counts[word] >= thresh]"
      ],
      "execution_count": null,
      "outputs": []
    },
    {
      "cell_type": "code",
      "metadata": {
        "id": "OvBIIfA1aa90"
      },
      "source": [
        "for idx,word in enumerate(vocab):\n",
        "    word_to_idx[word] = idx+1\n",
        "    idx_to_word[idx+1] = word"
      ],
      "execution_count": null,
      "outputs": []
    },
    {
      "cell_type": "code",
      "metadata": {
        "id": "kVRdUalFacAS",
        "colab": {
          "base_uri": "https://localhost:8080/",
          "height": 34
        },
        "outputId": "4ae807cb-0eeb-45b8-c075-ca2a3a4f9e0b"
      },
      "source": [
        "vocab_size = len(idx_to_word) + 1 \n",
        "vocab_size"
      ],
      "execution_count": null,
      "outputs": [
        {
          "output_type": "execute_result",
          "data": {
            "text/plain": [
              "1657"
            ]
          },
          "metadata": {
            "tags": []
          },
          "execution_count": 54
        }
      ]
    },
    {
      "cell_type": "code",
      "metadata": {
        "id": "6aNq8t6uadyO"
      },
      "source": [
        "maxm = len(max(train_captions,key = len).split())"
      ],
      "execution_count": null,
      "outputs": []
    },
    {
      "cell_type": "code",
      "metadata": {
        "id": "LNK-TK6vafOi",
        "colab": {
          "base_uri": "https://localhost:8080/",
          "height": 34
        },
        "outputId": "b8148667-8ca8-4f7c-9ae9-2b4d0a943f92"
      },
      "source": [
        "maxm"
      ],
      "execution_count": null,
      "outputs": [
        {
          "output_type": "execute_result",
          "data": {
            "text/plain": [
              "35"
            ]
          },
          "metadata": {
            "tags": []
          },
          "execution_count": 56
        }
      ]
    },
    {
      "cell_type": "code",
      "metadata": {
        "id": "lmmhJBaUalGr"
      },
      "source": [
        "import matplotlib.pyplot as plt"
      ],
      "execution_count": null,
      "outputs": []
    },
    {
      "cell_type": "code",
      "metadata": {
        "id": "eLmQvsyQafhT",
        "colab": {
          "base_uri": "https://localhost:8080/",
          "height": 286
        },
        "outputId": "460c8983-0d03-4b9c-ff67-5e079058d8a3"
      },
      "source": [
        "pic = list(test_enc.keys())[90]\n",
        "img = test_enc[pic].reshape(1, 2048)\n",
        "x = plt.imread(img_pth + pic)\n",
        "plt.imshow(x)\n",
        "plt.show()\n",
        "out = greedy_search(img)\n",
        "print(out)"
      ],
      "execution_count": null,
      "outputs": [
        {
          "output_type": "display_data",
          "data": {
            "image/png": "[encoded data removed]",
            "text/plain": [
              "<Figure size 432x288 with 1 Axes>"
            ]
          },
          "metadata": {
            "tags": [],
            "needs_background": "light"
          }
        },
        {
          "output_type": "stream",
          "text": [
            "dog runs along the beach\n"
          ],
          "name": "stdout"
        }
      ]
    },
    {
      "cell_type": "code",
      "metadata": {
        "id": "0FrT4HNIcuNO"
      },
      "source": [
        "b1,b2,b3,b4 = [],[],[],[]"
      ],
      "execution_count": null,
      "outputs": []
    },
    {
      "cell_type": "code",
      "metadata": {
        "id": "8LcshjMBdMHh",
        "colab": {
          "base_uri": "https://localhost:8080/",
          "height": 243
        },
        "outputId": "845e0ec8-232d-412d-f7e0-3fb8f37ed9c2"
      },
      "source": [
        "for key,enc in tqdm(test_enc.items()):\n",
        "  img = enc.reshape(1,2048)\n",
        "  out = greedy_search(img)\n",
        "  out = out.split()\n",
        "  cap = test_caps[key.split('.')[0]]\n",
        "  cap = [x.split() for x in cap]\n",
        "  b1.append(sentence_bleu(cap,out,(1.0,0,0,0)))\n",
        "  b2.append(sentence_bleu(cap,out,(0.5,0.5,0,0)))\n",
        "  b3.append(sentence_bleu(cap,out,(0.33,0.33,0.33,0)))\n",
        "  b4.append(sentence_bleu(cap,out,(0.25,0.25,0.25,0.25)))"
      ],
      "execution_count": null,
      "outputs": [
        {
          "output_type": "stream",
          "text": [
            "  0%|          | 0/1000 [00:00<?, ?it/s]/usr/local/lib/python3.6/dist-packages/nltk/translate/bleu_score.py:490: UserWarning: \n",
            "Corpus/Sentence contains 0 counts of 4-gram overlaps.\n",
            "BLEU scores might be undesirable; use SmoothingFunction().\n",
            "  warnings.warn(_msg)\n",
            "  0%|          | 1/1000 [00:00<13:16,  1.25it/s]/usr/local/lib/python3.6/dist-packages/nltk/translate/bleu_score.py:490: UserWarning: \n",
            "Corpus/Sentence contains 0 counts of 2-gram overlaps.\n",
            "BLEU scores might be undesirable; use SmoothingFunction().\n",
            "  warnings.warn(_msg)\n",
            "  0%|          | 3/1000 [00:02<13:37,  1.22it/s]/usr/local/lib/python3.6/dist-packages/nltk/translate/bleu_score.py:490: UserWarning: \n",
            "Corpus/Sentence contains 0 counts of 3-gram overlaps.\n",
            "BLEU scores might be undesirable; use SmoothingFunction().\n",
            "  warnings.warn(_msg)\n",
            "100%|██████████| 1000/1000 [15:26<00:00,  1.08it/s]\n"
          ],
          "name": "stderr"
        }
      ]
    }
  ]
}